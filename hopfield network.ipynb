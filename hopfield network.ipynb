{
  "nbformat": 4,
  "nbformat_minor": 0,
  "metadata": {
    "colab": {
      "provenance": []
    },
    "kernelspec": {
      "name": "python3",
      "display_name": "Python 3"
    },
    "language_info": {
      "name": "python"
    }
  },
  "cells": [
    {
      "cell_type": "code",
      "execution_count": 1,
      "metadata": {
        "colab": {
          "base_uri": "https://localhost:8080/",
          "height": 519
        },
        "id": "klnsbBslYKMu",
        "outputId": "3ec5ff4e-7908-426a-d273-10983bf8ad89"
      },
      "outputs": [
        {
          "output_type": "display_data",
          "data": {
            "text/plain": [
              "<Figure size 720x360 with 3 Axes>"
            ],
            "image/png": "[encoded data removed]"
          },
          "metadata": {}
        },
        {
          "output_type": "execute_result",
          "data": {
            "text/plain": [
              "[]"
            ]
          },
          "metadata": {},
          "execution_count": 1
        },
        {
          "output_type": "display_data",
          "data": {
            "text/plain": [
              "<Figure size 720x360 with 2 Axes>"
            ],
            "image/png": "[encoded data removed]"
          },
          "metadata": {}
        }
      ],
      "source": [
        "import matplotlib.pyplot as plt\n",
        "import numpy as np\n",
        "\n",
        "\n",
        "def hardlims(x):\n",
        "    if x<0:\n",
        "        return -1\n",
        "    else:\n",
        "        return 1\n",
        "\n",
        "np.random.seed(1000)\n",
        "\n",
        "number_of_patterns = 3\n",
        "x1 = 5\n",
        "x2 = 5 \n",
        "number_of_iteration = 20\n",
        "\n",
        "\n",
        "P = np.zeros((number_of_patterns, x1 * x2 ))\n",
        "\n",
        "P[0] = [-1, -1, -1, -1, -1, -1, 1, 1, 1, -1, -1, 1, -1, 1, -1, -1, 1, 1, 1, -1, -1, -1, -1, -1, -1]\n",
        "P[1] = [-1, -1, -1, -1, -1, -1, -1, -1, -1, -1, 1, 1, 1, 1, 1, -1, -1, -1, -1, -1, -1, -1, -1, -1, -1]\n",
        "P[2] = [-1, -1, 1, -1, -1, -1, -1, 1, -1, -1, -1, -1, 1, -1, -1, -1, -1, 1, -1, -1, -1, -1, 1, -1, -1]\n",
        "\n",
        "\n",
        "W = np.zeros((x1 * x2 , x1 * x2))\n",
        "\n",
        "for i in range(x1 * x2):\n",
        "    for j in range(x1 * x2):\n",
        "        if i == j :\n",
        "             W[i, j] = 0\n",
        "        else:\n",
        "            \n",
        "            w = 0\n",
        "        \n",
        "            for n in range(number_of_patterns):\n",
        "                w += P[n, i] * P[n, j]\n",
        "            \n",
        "            W[i, j] = w / P.shape[0]\n",
        "            W[j, i] = W[i, j]\n",
        "        \n",
        "\n",
        "x_test = np.array([-1, -1, 1, -1, -1, -1, 1, 1, 1, -1, -1, 1, -1, 1, -1, -1, -1, -1, 1, -1, -1, 1, -1, -1, -1])\n",
        "\n",
        "\n",
        "Y = np.empty([1, 25], dtype=int)\n",
        "for _ in range(number_of_iteration ):\n",
        "    X_Test = x_test\n",
        "    y = X_Test.dot( W ) \n",
        "    Y = np.array([hardlims(y[i]) for y[i] in y])\n",
        "    X_test = Y\n",
        "    \n",
        "    \n",
        "fig, ax = plt.subplots(1, number_of_patterns, figsize=(10, 5))\n",
        "\n",
        "for i in range(number_of_patterns):\n",
        "    ax[i].matshow(P[i].reshape((x1, x2)), cmap='gray')\n",
        "    ax[i].set_xticks([])\n",
        "    ax[i].set_yticks([])\n",
        "    \n",
        "plt.show()\n",
        "              \n",
        "fig, ax = plt.subplots(1, 2, figsize=(10, 5))\n",
        "\n",
        "ax[0].matshow(x_test.reshape(x1, x2), cmap='gray')\n",
        "ax[0].set_title('Corrupted pattern')\n",
        "ax[0].set_xticks([])\n",
        "ax[0].set_yticks([])\n",
        "\n",
        "ax[1].matshow(X_test.reshape(x1, x2), cmap='gray')\n",
        "ax[1].set_title('Recovered pattern')\n",
        "ax[1].set_xticks([])\n",
        "ax[1].set_yticks([])\n",
        "\n"
      ]
    }
  ]
}